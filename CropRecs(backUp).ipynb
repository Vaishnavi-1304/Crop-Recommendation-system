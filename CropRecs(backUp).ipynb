{
  "nbformat": 4,
  "nbformat_minor": 0,
  "metadata": {
    "colab": {
      "provenance": []
    },
    "kernelspec": {
      "name": "python3",
      "display_name": "Python 3"
    },
    "language_info": {
      "name": "python"
    }
  },
  "cells": [
    {
      "cell_type": "code",
      "source": [
        "# Sample data with soil types and their corresponding feature ranges and crop recommendations\n",
        "soil_data = {\n",
        "    'Loamy': {\n",
        "        'features': {'N': (20, 120), 'P': (10, 40), 'K': (100, 300), 'temperature': (15, 25),\n",
        "                     'humidity': (50, 70), 'ph': (6.0, 7.5), 'rainfall': (500, 1000)},\n",
        "        'crops': ['Wheat', 'Sugarcane', 'Pulses', 'Vegetables']\n",
        "    },\n",
        "    'Sandy': {\n",
        "        'features': {'N': (10, 50), 'P': (5, 20), 'K': (20, 100), 'temperature': (20, 30),\n",
        "                     'humidity': (30, 50), 'ph': (4.5, 6.5), 'rainfall': (250, 500)},\n",
        "        'crops': ['Peanuts', 'Watermelon', 'Cantaloupe', 'Carrots']\n",
        "    },\n",
        "    'Clay': {\n",
        "        'features': {'N': (50, 150), 'P': (15, 60), 'K': (150, 400), 'temperature': (10, 20),\n",
        "                     'humidity': (60, 80), 'ph': (5.5, 7.0), 'rainfall': (700, 1500)},\n",
        "        'crops': ['Rice', 'Soybeans', 'Tomatoes', 'Broccoli']\n",
        "    },\n",
        "    'Silty': {\n",
        "        'features': {'N': (30, 80), 'P': (10, 40), 'K': (100, 250), 'temperature': (15, 25),\n",
        "                     'humidity': (55, 75), 'ph': (6.0, 7.5), 'rainfall': (500, 1200)},\n",
        "        'crops': ['Corn', 'Barley', 'Soybeans', 'Vegetables']\n",
        "    },\n",
        "    'Peaty': {\n",
        "        'features': {'N': (150, 300), 'P': (15, 40), 'K': (200, 400), 'temperature': (10, 20),\n",
        "                     'humidity': (70, 90), 'ph': (3.5, 5.5), 'rainfall': (1000, 2000)},\n",
        "        'crops': ['Rice', 'Mint', 'Cranberries', 'Shrubs']\n",
        "    },\n",
        "    'Saline': {\n",
        "        'features': {'N': (10, 30), 'P': (5, 15), 'K': (50, 150), 'temperature': (20, 30),\n",
        "                     'humidity': (40, 60), 'ph': (7.5, 9.0), 'rainfall': (200, 400)},\n",
        "        'crops': ['Barley', 'Beetroot', 'Asparagus', 'Date Palms']\n",
        "    },\n",
        "    'Chalky': {\n",
        "        'features': {'N': (5, 30), 'P': (5, 20), 'K': (50, 150), 'temperature': (15, 25),\n",
        "                     'humidity': (30, 50), 'ph': (7.5, 8.5), 'rainfall': (400, 700)},\n",
        "        'crops': ['Lentils', 'Spinach', 'Beets', 'Lavender']\n",
        "    }\n",
        "}"
      ],
      "metadata": {
        "id": "1AO0z_PhMYSW"
      },
      "execution_count": null,
      "outputs": []
    },
    {
      "cell_type": "code",
      "source": [
        "def recommend_crops(soil_type):\n",
        "    soil_info = soil_data.get(soil_type.capitalize())\n",
        "\n",
        "    if not soil_info:\n",
        "        print(\"Soil type not found. Please enter a valid soil type.\")\n",
        "        return\n",
        "\n",
        "    print(f\"Analyzing soil type: {soil_type.capitalize()}\")\n",
        "    print(\"Typical Feature Ranges:\")\n",
        "    for feature, value_range in soil_info['features'].items():\n",
        "        print(f\"  - {feature.capitalize()}: {value_range[0]} to {value_range[1]}\")\n",
        "\n",
        "    print(\"\\nRecommended Crops:\")\n",
        "    for crop in soil_info['crops']:\n",
        "        print(f\"  - {crop}\")"
      ],
      "metadata": {
        "id": "P-fajGW-M33p"
      },
      "execution_count": null,
      "outputs": []
    },
    {
      "cell_type": "code",
      "source": [
        "soil_type = input(\"Enter the soil type (e.g., Loamy, Sandy, Clay, etc.): \")\n",
        "recommend_crops(soil_type)"
      ],
      "metadata": {
        "colab": {
          "base_uri": "https://localhost:8080/"
        },
        "id": "ujdz9FX9NCDE",
        "outputId": "7d8f3990-bb82-4450-ecab-ff3a11b51215"
      },
      "execution_count": null,
      "outputs": [
        {
          "output_type": "stream",
          "name": "stdout",
          "text": [
            "Enter the soil type (e.g., Loamy, Sandy, Clay, etc.): sandy\n",
            "Analyzing soil type: Sandy\n",
            "Typical Feature Ranges:\n",
            "  - N: 10 to 50\n",
            "  - P: 5 to 20\n",
            "  - K: 20 to 100\n",
            "  - Temperature: 20 to 30\n",
            "  - Humidity: 30 to 50\n",
            "  - Ph: 4.5 to 6.5\n",
            "  - Rainfall: 250 to 500\n",
            "\n",
            "Recommended Crops:\n",
            "  - Peanuts\n",
            "  - Watermelon\n",
            "  - Cantaloupe\n",
            "  - Carrots\n"
          ]
        }
      ]
    }
  ]
}